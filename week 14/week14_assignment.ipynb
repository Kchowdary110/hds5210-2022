{
 "cells": [
  {
   "cell_type": "markdown",
   "metadata": {
    "nbgrader": {
     "grade": false,
     "grade_id": "intro",
     "locked": true,
     "schema_version": 1,
     "solution": false
    }
   },
   "source": [
    "# Working with multiple data sets\n",
    "\n",
    "There are two data files that we'll be working with for this week's assignment.  They are described below.  Load those data files in with Pandas and then work to answering each of the questions below.\n",
    "\n",
    "## npidata.csv\n",
    "\n",
    "This file is basic information about every healthcare provider in the US.  It has one row for each NPI (National Provider Identifier).  It contains information such as the provider's name and address.\n",
    "\n",
    "\n",
    "## cmsYYYY.csv\n",
    "\n",
    "These are files about what kinds of procedures and patients providers in the US are serving under CMS programs, Medicare and Medicaid.  Each contains various statistics about providers over the course of a year.  There are three of these, for the years 2014, 2015, and 2016.  These files, however, don't contain information about the provider such as where the provider is located.\n",
    "\n",
    "## Our Goals\n",
    "\n",
    "For this assignment, we're going to want to compute some statistics based on the data in the **cms** files, but aggregate that data based on information in the **npidata** file.  As in last week's assignment, you'll need to store your answers in a variable called `answer` at the end of each step."
   ]
  },
  {
   "cell_type": "code",
   "execution_count": 1,
   "metadata": {
    "nbgrader": {
     "grade": false,
     "grade_id": "import",
     "locked": true,
     "schema_version": 1,
     "solution": false
    }
   },
   "outputs": [],
   "source": [
    "import pandas as pd"
   ]
  },
  {
   "cell_type": "markdown",
   "metadata": {
    "nbgrader": {
     "grade": false,
     "grade_id": "01-intro",
     "locked": true,
     "schema_version": 1,
     "solution": false
    }
   },
   "source": [
    "## Part 1\n",
    "\n",
    "In this first step, we'll need to merge together all of the **cms** files into a single dataframe.  Be careful that these files might not be identical, so you'll have to look a little bit to figure out how to merge them.\n",
    "\n",
    "As you are merging them, make sure that you retain information about which file (i.e. which year) the data came from.  Call that new columns `year`.\n",
    "\n",
    "In your `answer` variable, provide a complete data frame that contains all of the rows and columns from the **cms** files, plus an additional column to store the year/file that particular row came from.\n",
    "\n",
    "The assertion tests will give you a good idea as to if you're merging the files correctly."
   ]
  },
  {
   "cell_type": "code",
   "execution_count": 2,
   "metadata": {
    "nbgrader": {
     "grade": false,
     "grade_id": "01-solution",
     "locked": false,
     "schema_version": 1,
     "solution": true
    }
   },
   "outputs": [
    {
     "name": "stderr",
     "output_type": "stream",
     "text": [
      "/opt/tljh/user/lib/python3.6/site-packages/IPython/core/interactiveshell.py:3051: DtypeWarning: Columns (18,33) have mixed types.Specify dtype option on import or set low_memory=False.\n",
      "  interactivity=interactivity, compiler=compiler, result=result)\n"
     ]
    }
   ],
   "source": [
    "cms_file_2014 = pd.read_csv(\"../../data/cms2014.csv\")\n",
    "cms_file_2015 = pd.read_csv(\"../../data/cms2015.csv\")\n",
    "cms_file_2016 = pd.read_csv(\"../../data/cms2016.csv\")\n",
    "npi_data = pd.read_csv(\"../../data/npidata.csv\")"
   ]
  },
  {
   "cell_type": "code",
   "execution_count": 3,
   "metadata": {},
   "outputs": [],
   "source": [
    "answer =None\n",
    "cms_file_2014['year'] = 2014\n",
    "cms_file_2015['year'] = 2015\n",
    "cms_file_2016['year'] = 2016"
   ]
  },
  {
   "cell_type": "code",
   "execution_count": 4,
   "metadata": {},
   "outputs": [],
   "source": [
    "cms_file_2014.columns = cms_file_2014.columns.str.strip().str.lower()\n",
    "cms_file_2015.columns = cms_file_2015.columns.str.strip().str.lower()\n",
    "cms_file_2016.columns = cms_file_2016.columns.str.strip().str.lower()\n",
    "answer = pd.concat([cms_file_2014, cms_file_2015, cms_file_2016], ignore_index=True)"
   ]
  },
  {
   "cell_type": "code",
   "execution_count": 5,
   "metadata": {
    "nbgrader": {
     "grade": true,
     "grade_id": "01-tests",
     "locked": true,
     "points": 5,
     "schema_version": 1,
     "solution": false
    }
   },
   "outputs": [],
   "source": [
    "assert(answer.shape == (193862, 60))\n",
    "assert(list(answer['year'].unique()) == [2014,2015,2016])\n",
    "assert(set(answer.columns.str.lower()) == set(['year', 'nbr', 'npi', 'provider_type',\n",
    "       'medicare_participation_indicator', 'number_of_hcpcs', 'total_services',\n",
    "       'total_unique_benes', 'total_submitted_chrg_amt',\n",
    "       'total_medicare_allowed_amt', 'total_medicare_payment_amt',\n",
    "       'total_medicare_stnd_amt', 'drug_suppress_indicator',\n",
    "       'number_of_drug_hcpcs', 'total_drug_services',\n",
    "       'total_drug_unique_benes', 'total_drug_submitted_chrg_amt',\n",
    "       'total_drug_medicare_allowed_amt', 'total_drug_medicare_payment_amt',\n",
    "       'total_drug_medicare_stnd_amt', 'med_suppress_indicator',\n",
    "       'number_of_med_hcpcs', 'total_med_services', 'total_med_unique_benes',\n",
    "       'total_med_submitted_chrg_amt', 'total_med_medicare_allowed_amt',\n",
    "       'total_med_medicare_payment_amt', 'total_med_medicare_stnd_amt',\n",
    "       'beneficiary_average_age', 'beneficiary_age_less_65_count',\n",
    "       'beneficiary_age_65_74_count', 'beneficiary_age_75_84_count',\n",
    "       'beneficiary_age_greater_84_count', 'beneficiary_female_count',\n",
    "       'beneficiary_male_count', 'beneficiary_race_white_count',\n",
    "       'beneficiary_race_black_count', 'beneficiary_race_api_count',\n",
    "       'beneficiary_race_hispanic_count', 'beneficiary_race_natind_count',\n",
    "       'beneficiary_race_other_count', 'beneficiary_nondual_count',\n",
    "       'beneficiary_dual_count', 'beneficiary_cc_afib_percent',\n",
    "       'beneficiary_cc_alzrdsd_percent', 'beneficiary_cc_asthma_percent',\n",
    "       'beneficiary_cc_cancer_percent', 'beneficiary_cc_chf_percent',\n",
    "       'beneficiary_cc_ckd_percent', 'beneficiary_cc_copd_percent',\n",
    "       'beneficiary_cc_depr_percent', 'beneficiary_cc_diab_percent',\n",
    "       'beneficiary_cc_hyperl_percent', 'beneficiary_cc_hypert_percent',\n",
    "       'beneficiary_cc_ihd_percent', 'beneficiary_cc_ost_percent',\n",
    "       'beneficiary_cc_raoa_percent', 'beneficiary_cc_schiot_percent',\n",
    "       'beneficiary_cc_strk_percent', 'beneficiary_average_risk_score']))"
   ]
  },
  {
   "cell_type": "code",
   "execution_count": null,
   "metadata": {},
   "outputs": [],
   "source": []
  },
  {
   "cell_type": "markdown",
   "metadata": {
    "nbgrader": {
     "grade": false,
     "grade_id": "02-intro",
     "locked": true,
     "schema_version": 1,
     "solution": false
    }
   },
   "source": [
    "## Part 2\n",
    "\n",
    "In this next part, we're going to join the **cms** data with the provider information in the **/data/npidata.csv** file.  In this join, we don't want to lose any records from the **cms** files, even if no matching provider exists in the **npidata** file.  However, we don't care about any providers from the **npidata** file that don't have records in the **cms** files.  Those providers can be ignored.\n",
    "\n",
    "Join the data files together to create one unified data frame called `answer`.  This dataframe should have all the columns from both **cms** and **npidata** files, joined together using the `npi` column.  \n",
    "\n",
    "Note that `npi` is unique in the **npidata** file."
   ]
  },
  {
   "cell_type": "code",
   "execution_count": 6,
   "metadata": {
    "nbgrader": {
     "grade": false,
     "grade_id": "02-solution",
     "locked": false,
     "schema_version": 1,
     "solution": true
    }
   },
   "outputs": [],
   "source": [
    "import pandas as pd\n",
    "\n",
    "\n",
    "answer = pd.merge(answer, npi_data, how='left', left_on='npi', right_on='NPI')\n",
    "\n",
    "\n"
   ]
  },
  {
   "cell_type": "code",
   "execution_count": 7,
   "metadata": {
    "nbgrader": {
     "grade": true,
     "grade_id": "02-tests",
     "locked": true,
     "points": 5,
     "schema_version": 1,
     "solution": false
    }
   },
   "outputs": [],
   "source": [
    "import numpy\n",
    "assert(answer.shape == (193862, 103))\n",
    "assert(list(answer['Provider Business Mailing Address State Name'].unique()) == ['IL','MO',numpy.nan,'WY'])\n",
    "assert(list(answer.groupby('Provider Business Mailing Address State Name').NPI.count()) == [111520, 53366, 4805])"
   ]
  },
  {
   "cell_type": "markdown",
   "metadata": {
    "nbgrader": {
     "grade": false,
     "grade_id": "03-intro",
     "locked": true,
     "schema_version": 1,
     "solution": false
    }
   },
   "source": [
    "## Part 3\n",
    "\n",
    "If you did everything right above, you'll notice that grouping by a column with NaN in it will cause some rows to disappear from the aggregation test.  So, let's create a new column called `'State'` that has the same value as whatever is in the `'Provider Business Mailing Address State Name'` column or a value of `'XX'` if there is no state information.\n",
    "\n",
    "Set `answer` to be your final data frame with the new `'State'` column added."
   ]
  },
  {
   "cell_type": "code",
   "execution_count": 8,
   "metadata": {
    "nbgrader": {
     "grade": false,
     "grade_id": "03-solution",
     "locked": false,
     "schema_version": 1,
     "solution": true
    }
   },
   "outputs": [],
   "source": [
    "answer['State'] = answer['Provider Business Mailing Address State Name'].fillna('XX')"
   ]
  },
  {
   "cell_type": "code",
   "execution_count": 9,
   "metadata": {},
   "outputs": [
    {
     "data": {
      "text/html": [
       "<div>\n",
       "<style scoped>\n",
       "    .dataframe tbody tr th:only-of-type {\n",
       "        vertical-align: middle;\n",
       "    }\n",
       "\n",
       "    .dataframe tbody tr th {\n",
       "        vertical-align: top;\n",
       "    }\n",
       "\n",
       "    .dataframe thead th {\n",
       "        text-align: right;\n",
       "    }\n",
       "</style>\n",
       "<table border=\"1\" class=\"dataframe\">\n",
       "  <thead>\n",
       "    <tr style=\"text-align: right;\">\n",
       "      <th></th>\n",
       "      <th>nbr</th>\n",
       "      <th>npi</th>\n",
       "      <th>provider_type</th>\n",
       "      <th>medicare_participation_indicator</th>\n",
       "      <th>number_of_hcpcs</th>\n",
       "      <th>total_services</th>\n",
       "      <th>total_unique_benes</th>\n",
       "      <th>total_submitted_chrg_amt</th>\n",
       "      <th>total_medicare_allowed_amt</th>\n",
       "      <th>total_medicare_payment_amt</th>\n",
       "      <th>...</th>\n",
       "      <th>Provider Business Practice Location Address Country Code (If outside U.S.)</th>\n",
       "      <th>Provider Business Practice Location Address Telephone Number</th>\n",
       "      <th>Provider Business Practice Location Address Fax Number</th>\n",
       "      <th>Provider Enumeration Date</th>\n",
       "      <th>Last Update Date</th>\n",
       "      <th>NPI Deactivation Reason Code</th>\n",
       "      <th>NPI Deactivation Date</th>\n",
       "      <th>NPI Reactivation Date</th>\n",
       "      <th>Provider Gender Code</th>\n",
       "      <th>State</th>\n",
       "    </tr>\n",
       "  </thead>\n",
       "  <tbody>\n",
       "    <tr>\n",
       "      <th>0</th>\n",
       "      <td>1</td>\n",
       "      <td>1003000134</td>\n",
       "      <td>Pathology</td>\n",
       "      <td>Y</td>\n",
       "      <td>13</td>\n",
       "      <td>8643.0</td>\n",
       "      <td>4276</td>\n",
       "      <td>1357139.00</td>\n",
       "      <td>321641.88</td>\n",
       "      <td>245364.34</td>\n",
       "      <td>...</td>\n",
       "      <td>US</td>\n",
       "      <td>8475702040</td>\n",
       "      <td>8.477335e+09</td>\n",
       "      <td>08/31/2007</td>\n",
       "      <td>08/06/2008</td>\n",
       "      <td>NaN</td>\n",
       "      <td>NaN</td>\n",
       "      <td>NaN</td>\n",
       "      <td>M</td>\n",
       "      <td>IL</td>\n",
       "    </tr>\n",
       "    <tr>\n",
       "      <th>1</th>\n",
       "      <td>19</td>\n",
       "      <td>1003001249</td>\n",
       "      <td>Physical Therapist</td>\n",
       "      <td>Y</td>\n",
       "      <td>4</td>\n",
       "      <td>1221.0</td>\n",
       "      <td>69</td>\n",
       "      <td>88686.28</td>\n",
       "      <td>34060.09</td>\n",
       "      <td>26055.17</td>\n",
       "      <td>...</td>\n",
       "      <td>US</td>\n",
       "      <td>2174467878</td>\n",
       "      <td>2.174468e+09</td>\n",
       "      <td>09/11/2007</td>\n",
       "      <td>07/13/2010</td>\n",
       "      <td>NaN</td>\n",
       "      <td>NaN</td>\n",
       "      <td>NaN</td>\n",
       "      <td>M</td>\n",
       "      <td>IL</td>\n",
       "    </tr>\n",
       "    <tr>\n",
       "      <th>2</th>\n",
       "      <td>21</td>\n",
       "      <td>1003001322</td>\n",
       "      <td>Mass Immunization Roster Biller</td>\n",
       "      <td>Y</td>\n",
       "      <td>7</td>\n",
       "      <td>788.0</td>\n",
       "      <td>370</td>\n",
       "      <td>21640.24</td>\n",
       "      <td>21634.91</td>\n",
       "      <td>21199.22</td>\n",
       "      <td>...</td>\n",
       "      <td>US</td>\n",
       "      <td>6605622755</td>\n",
       "      <td>6.605625e+09</td>\n",
       "      <td>09/10/2007</td>\n",
       "      <td>09/10/2007</td>\n",
       "      <td>NaN</td>\n",
       "      <td>NaN</td>\n",
       "      <td>NaN</td>\n",
       "      <td>NaN</td>\n",
       "      <td>MO</td>\n",
       "    </tr>\n",
       "    <tr>\n",
       "      <th>3</th>\n",
       "      <td>37</td>\n",
       "      <td>1003002486</td>\n",
       "      <td>Chiropractic</td>\n",
       "      <td>Y</td>\n",
       "      <td>2</td>\n",
       "      <td>142.0</td>\n",
       "      <td>22</td>\n",
       "      <td>7458.44</td>\n",
       "      <td>5037.51</td>\n",
       "      <td>3727.01</td>\n",
       "      <td>...</td>\n",
       "      <td>US</td>\n",
       "      <td>6362399997</td>\n",
       "      <td>6.362400e+09</td>\n",
       "      <td>09/19/2007</td>\n",
       "      <td>02/19/2019</td>\n",
       "      <td>NaN</td>\n",
       "      <td>NaN</td>\n",
       "      <td>NaN</td>\n",
       "      <td>F</td>\n",
       "      <td>MO</td>\n",
       "    </tr>\n",
       "    <tr>\n",
       "      <th>4</th>\n",
       "      <td>73</td>\n",
       "      <td>1003005430</td>\n",
       "      <td>Clinical Psychologist</td>\n",
       "      <td>Y</td>\n",
       "      <td>3</td>\n",
       "      <td>130.0</td>\n",
       "      <td>11</td>\n",
       "      <td>20640.00</td>\n",
       "      <td>14968.22</td>\n",
       "      <td>11334.69</td>\n",
       "      <td>...</td>\n",
       "      <td>US</td>\n",
       "      <td>7089237400</td>\n",
       "      <td>7.089237e+09</td>\n",
       "      <td>10/22/2007</td>\n",
       "      <td>10/22/2007</td>\n",
       "      <td>NaN</td>\n",
       "      <td>NaN</td>\n",
       "      <td>NaN</td>\n",
       "      <td>F</td>\n",
       "      <td>IL</td>\n",
       "    </tr>\n",
       "    <tr>\n",
       "      <th>...</th>\n",
       "      <td>...</td>\n",
       "      <td>...</td>\n",
       "      <td>...</td>\n",
       "      <td>...</td>\n",
       "      <td>...</td>\n",
       "      <td>...</td>\n",
       "      <td>...</td>\n",
       "      <td>...</td>\n",
       "      <td>...</td>\n",
       "      <td>...</td>\n",
       "      <td>...</td>\n",
       "      <td>...</td>\n",
       "      <td>...</td>\n",
       "      <td>...</td>\n",
       "      <td>...</td>\n",
       "      <td>...</td>\n",
       "      <td>...</td>\n",
       "      <td>...</td>\n",
       "      <td>...</td>\n",
       "      <td>...</td>\n",
       "      <td>...</td>\n",
       "    </tr>\n",
       "    <tr>\n",
       "      <th>193857</th>\n",
       "      <td>1053890</td>\n",
       "      <td>1992995542</td>\n",
       "      <td>Ophthalmology</td>\n",
       "      <td>Y</td>\n",
       "      <td>49</td>\n",
       "      <td>2623.0</td>\n",
       "      <td>611</td>\n",
       "      <td>845229.00</td>\n",
       "      <td>354741.85</td>\n",
       "      <td>265925.26</td>\n",
       "      <td>...</td>\n",
       "      <td>US</td>\n",
       "      <td>3125672795</td>\n",
       "      <td>3.125679e+09</td>\n",
       "      <td>07/30/2007</td>\n",
       "      <td>04/10/2017</td>\n",
       "      <td>NaN</td>\n",
       "      <td>NaN</td>\n",
       "      <td>NaN</td>\n",
       "      <td>M</td>\n",
       "      <td>IL</td>\n",
       "    </tr>\n",
       "    <tr>\n",
       "      <th>193858</th>\n",
       "      <td>1053892</td>\n",
       "      <td>1992995591</td>\n",
       "      <td>Obstetrics &amp; Gynecology</td>\n",
       "      <td>Y</td>\n",
       "      <td>18</td>\n",
       "      <td>27.0</td>\n",
       "      <td>17</td>\n",
       "      <td>9800.23</td>\n",
       "      <td>2929.11</td>\n",
       "      <td>2160.71</td>\n",
       "      <td>...</td>\n",
       "      <td>US</td>\n",
       "      <td>7732938777</td>\n",
       "      <td>7.738781e+09</td>\n",
       "      <td>07/30/2007</td>\n",
       "      <td>10/14/2015</td>\n",
       "      <td>NaN</td>\n",
       "      <td>NaN</td>\n",
       "      <td>NaN</td>\n",
       "      <td>M</td>\n",
       "      <td>IL</td>\n",
       "    </tr>\n",
       "    <tr>\n",
       "      <th>193859</th>\n",
       "      <td>1053900</td>\n",
       "      <td>1992996219</td>\n",
       "      <td>Neurology</td>\n",
       "      <td>Y</td>\n",
       "      <td>25</td>\n",
       "      <td>1121.0</td>\n",
       "      <td>620</td>\n",
       "      <td>565393.00</td>\n",
       "      <td>163926.41</td>\n",
       "      <td>123229.09</td>\n",
       "      <td>...</td>\n",
       "      <td>US</td>\n",
       "      <td>3143627845</td>\n",
       "      <td>3.143620e+09</td>\n",
       "      <td>08/05/2007</td>\n",
       "      <td>01/24/2018</td>\n",
       "      <td>NaN</td>\n",
       "      <td>NaN</td>\n",
       "      <td>NaN</td>\n",
       "      <td>M</td>\n",
       "      <td>MO</td>\n",
       "    </tr>\n",
       "    <tr>\n",
       "      <th>193860</th>\n",
       "      <td>1053901</td>\n",
       "      <td>1992996284</td>\n",
       "      <td>Internal Medicine</td>\n",
       "      <td>Y</td>\n",
       "      <td>21</td>\n",
       "      <td>4501.6</td>\n",
       "      <td>381</td>\n",
       "      <td>194576.60</td>\n",
       "      <td>163050.75</td>\n",
       "      <td>126543.18</td>\n",
       "      <td>...</td>\n",
       "      <td>US</td>\n",
       "      <td>8473778440</td>\n",
       "      <td>8.473779e+09</td>\n",
       "      <td>08/05/2007</td>\n",
       "      <td>08/05/2007</td>\n",
       "      <td>NaN</td>\n",
       "      <td>NaN</td>\n",
       "      <td>NaN</td>\n",
       "      <td>F</td>\n",
       "      <td>IL</td>\n",
       "    </tr>\n",
       "    <tr>\n",
       "      <th>193861</th>\n",
       "      <td>1053906</td>\n",
       "      <td>1992996458</td>\n",
       "      <td>Sleep Medicine</td>\n",
       "      <td>Y</td>\n",
       "      <td>14</td>\n",
       "      <td>1204.0</td>\n",
       "      <td>480</td>\n",
       "      <td>323712.00</td>\n",
       "      <td>127595.42</td>\n",
       "      <td>93749.86</td>\n",
       "      <td>...</td>\n",
       "      <td>US</td>\n",
       "      <td>5733022715</td>\n",
       "      <td>5.733023e+09</td>\n",
       "      <td>08/08/2007</td>\n",
       "      <td>04/19/2018</td>\n",
       "      <td>NaN</td>\n",
       "      <td>NaN</td>\n",
       "      <td>NaN</td>\n",
       "      <td>M</td>\n",
       "      <td>MO</td>\n",
       "    </tr>\n",
       "  </tbody>\n",
       "</table>\n",
       "<p>193862 rows × 104 columns</p>\n",
       "</div>"
      ],
      "text/plain": [
       "            nbr         npi                    provider_type  \\\n",
       "0             1  1003000134                        Pathology   \n",
       "1            19  1003001249               Physical Therapist   \n",
       "2            21  1003001322  Mass Immunization Roster Biller   \n",
       "3            37  1003002486                     Chiropractic   \n",
       "4            73  1003005430            Clinical Psychologist   \n",
       "...         ...         ...                              ...   \n",
       "193857  1053890  1992995542                    Ophthalmology   \n",
       "193858  1053892  1992995591          Obstetrics & Gynecology   \n",
       "193859  1053900  1992996219                        Neurology   \n",
       "193860  1053901  1992996284                Internal Medicine   \n",
       "193861  1053906  1992996458                   Sleep Medicine   \n",
       "\n",
       "       medicare_participation_indicator  number_of_hcpcs  total_services  \\\n",
       "0                                     Y               13          8643.0   \n",
       "1                                     Y                4          1221.0   \n",
       "2                                     Y                7           788.0   \n",
       "3                                     Y                2           142.0   \n",
       "4                                     Y                3           130.0   \n",
       "...                                 ...              ...             ...   \n",
       "193857                                Y               49          2623.0   \n",
       "193858                                Y               18            27.0   \n",
       "193859                                Y               25          1121.0   \n",
       "193860                                Y               21          4501.6   \n",
       "193861                                Y               14          1204.0   \n",
       "\n",
       "        total_unique_benes  total_submitted_chrg_amt  \\\n",
       "0                     4276                1357139.00   \n",
       "1                       69                  88686.28   \n",
       "2                      370                  21640.24   \n",
       "3                       22                   7458.44   \n",
       "4                       11                  20640.00   \n",
       "...                    ...                       ...   \n",
       "193857                 611                 845229.00   \n",
       "193858                  17                   9800.23   \n",
       "193859                 620                 565393.00   \n",
       "193860                 381                 194576.60   \n",
       "193861                 480                 323712.00   \n",
       "\n",
       "        total_medicare_allowed_amt  total_medicare_payment_amt  ...  \\\n",
       "0                        321641.88                   245364.34  ...   \n",
       "1                         34060.09                    26055.17  ...   \n",
       "2                         21634.91                    21199.22  ...   \n",
       "3                          5037.51                     3727.01  ...   \n",
       "4                         14968.22                    11334.69  ...   \n",
       "...                            ...                         ...  ...   \n",
       "193857                   354741.85                   265925.26  ...   \n",
       "193858                     2929.11                     2160.71  ...   \n",
       "193859                   163926.41                   123229.09  ...   \n",
       "193860                   163050.75                   126543.18  ...   \n",
       "193861                   127595.42                    93749.86  ...   \n",
       "\n",
       "        Provider Business Practice Location Address Country Code (If outside U.S.)  \\\n",
       "0                                                      US                            \n",
       "1                                                      US                            \n",
       "2                                                      US                            \n",
       "3                                                      US                            \n",
       "4                                                      US                            \n",
       "...                                                   ...                            \n",
       "193857                                                 US                            \n",
       "193858                                                 US                            \n",
       "193859                                                 US                            \n",
       "193860                                                 US                            \n",
       "193861                                                 US                            \n",
       "\n",
       "       Provider Business Practice Location Address Telephone Number  \\\n",
       "0                                              8475702040             \n",
       "1                                              2174467878             \n",
       "2                                              6605622755             \n",
       "3                                              6362399997             \n",
       "4                                              7089237400             \n",
       "...                                                   ...             \n",
       "193857                                         3125672795             \n",
       "193858                                         7732938777             \n",
       "193859                                         3143627845             \n",
       "193860                                         8473778440             \n",
       "193861                                         5733022715             \n",
       "\n",
       "        Provider Business Practice Location Address Fax Number  \\\n",
       "0                                            8.477335e+09        \n",
       "1                                            2.174468e+09        \n",
       "2                                            6.605625e+09        \n",
       "3                                            6.362400e+09        \n",
       "4                                            7.089237e+09        \n",
       "...                                                   ...        \n",
       "193857                                       3.125679e+09        \n",
       "193858                                       7.738781e+09        \n",
       "193859                                       3.143620e+09        \n",
       "193860                                       8.473779e+09        \n",
       "193861                                       5.733023e+09        \n",
       "\n",
       "        Provider Enumeration Date  Last Update Date  \\\n",
       "0                      08/31/2007        08/06/2008   \n",
       "1                      09/11/2007        07/13/2010   \n",
       "2                      09/10/2007        09/10/2007   \n",
       "3                      09/19/2007        02/19/2019   \n",
       "4                      10/22/2007        10/22/2007   \n",
       "...                           ...               ...   \n",
       "193857                 07/30/2007        04/10/2017   \n",
       "193858                 07/30/2007        10/14/2015   \n",
       "193859                 08/05/2007        01/24/2018   \n",
       "193860                 08/05/2007        08/05/2007   \n",
       "193861                 08/08/2007        04/19/2018   \n",
       "\n",
       "        NPI Deactivation Reason Code  NPI Deactivation Date  \\\n",
       "0                                NaN                    NaN   \n",
       "1                                NaN                    NaN   \n",
       "2                                NaN                    NaN   \n",
       "3                                NaN                    NaN   \n",
       "4                                NaN                    NaN   \n",
       "...                              ...                    ...   \n",
       "193857                           NaN                    NaN   \n",
       "193858                           NaN                    NaN   \n",
       "193859                           NaN                    NaN   \n",
       "193860                           NaN                    NaN   \n",
       "193861                           NaN                    NaN   \n",
       "\n",
       "        NPI Reactivation Date  Provider Gender Code State  \n",
       "0                         NaN                     M    IL  \n",
       "1                         NaN                     M    IL  \n",
       "2                         NaN                   NaN    MO  \n",
       "3                         NaN                     F    MO  \n",
       "4                         NaN                     F    IL  \n",
       "...                       ...                   ...   ...  \n",
       "193857                    NaN                     M    IL  \n",
       "193858                    NaN                     M    IL  \n",
       "193859                    NaN                     M    MO  \n",
       "193860                    NaN                     F    IL  \n",
       "193861                    NaN                     M    MO  \n",
       "\n",
       "[193862 rows x 104 columns]"
      ]
     },
     "execution_count": 9,
     "metadata": {},
     "output_type": "execute_result"
    }
   ],
   "source": [
    "answer"
   ]
  },
  {
   "cell_type": "code",
   "execution_count": 10,
   "metadata": {
    "nbgrader": {
     "grade": true,
     "grade_id": "03-tests",
     "locked": true,
     "points": 5,
     "schema_version": 1,
     "solution": false
    }
   },
   "outputs": [],
   "source": [
    "assert(list(answer.groupby('State').npi.count()) == [111520, 53366, 4805, 24171])\n",
    "assert(answer.shape == (193862, 104))"
   ]
  },
  {
   "cell_type": "markdown",
   "metadata": {
    "nbgrader": {
     "grade": false,
     "grade_id": "04-intro",
     "locked": true,
     "schema_version": 1,
     "solution": false
    }
   },
   "source": [
    "## Part 4\n",
    "\n",
    "Next, let's summarize the data by year and by State.  Create a pivot table that contains one row for each state and one column for each year.  Within the pivot table, put a sum of total services as the values.\n",
    "\n",
    "Assign `answer` to be that resulting pivot table.  In the tests, I'm going to plot a bar chart of your pivot table."
   ]
  },
  {
   "cell_type": "code",
   "execution_count": 11,
   "metadata": {
    "nbgrader": {
     "grade": false,
     "grade_id": "04-solution",
     "locked": false,
     "schema_version": 1,
     "solution": true
    }
   },
   "outputs": [],
   "source": [
    "%matplotlib inline\n",
    "final_dt = answer.groupby(['year','State'], as_index=False)['total_services'].sum()\n",
    "final_dt = final_dt.pivot(index='State', columns='year', values='total_services')\n"
   ]
  },
  {
   "cell_type": "code",
   "execution_count": null,
   "metadata": {},
   "outputs": [],
   "source": [
    "answer = final"
   ]
  },
  {
   "cell_type": "code",
   "execution_count": 12,
   "metadata": {
    "nbgrader": {
     "grade": true,
     "grade_id": "04-tests",
     "locked": true,
     "points": 5,
     "schema_version": 1,
     "solution": false
    }
   },
   "outputs": [
    {
     "ename": "AssertionError",
     "evalue": "",
     "output_type": "error",
     "traceback": [
      "\u001b[0;31m---------------------------------------------------------------------------\u001b[0m",
      "\u001b[0;31mAssertionError\u001b[0m                            Traceback (most recent call last)",
      "\u001b[0;32m<ipython-input-12-db10226393b0>\u001b[0m in \u001b[0;36m<module>\u001b[0;34m\u001b[0m\n\u001b[0;32m----> 1\u001b[0;31m \u001b[0;32massert\u001b[0m\u001b[0;34m(\u001b[0m\u001b[0manswer\u001b[0m\u001b[0;34m.\u001b[0m\u001b[0mshape\u001b[0m \u001b[0;34m==\u001b[0m \u001b[0;34m(\u001b[0m\u001b[0;36m4\u001b[0m\u001b[0;34m,\u001b[0m\u001b[0;36m3\u001b[0m\u001b[0;34m)\u001b[0m\u001b[0;34m)\u001b[0m\u001b[0;34m\u001b[0m\u001b[0;34m\u001b[0m\u001b[0m\n\u001b[0m\u001b[1;32m      2\u001b[0m \u001b[0;32massert\u001b[0m\u001b[0;34m(\u001b[0m\u001b[0manswer\u001b[0m\u001b[0;34m.\u001b[0m\u001b[0msum\u001b[0m\u001b[0;34m(\u001b[0m\u001b[0;34m)\u001b[0m\u001b[0;34m.\u001b[0m\u001b[0msum\u001b[0m\u001b[0;34m(\u001b[0m\u001b[0;34m)\u001b[0m \u001b[0;34m==\u001b[0m \u001b[0;36m519185664.6999999\u001b[0m\u001b[0;34m)\u001b[0m\u001b[0;34m\u001b[0m\u001b[0;34m\u001b[0m\u001b[0m\n\u001b[1;32m      3\u001b[0m \u001b[0;32massert\u001b[0m\u001b[0;34m(\u001b[0m\u001b[0manswer\u001b[0m\u001b[0;34m[\u001b[0m\u001b[0;36m2016\u001b[0m\u001b[0;34m]\u001b[0m\u001b[0;34m.\u001b[0m\u001b[0msum\u001b[0m\u001b[0;34m(\u001b[0m\u001b[0;34m)\u001b[0m \u001b[0;34m==\u001b[0m \u001b[0;36m176596933.80000004\u001b[0m\u001b[0;34m)\u001b[0m\u001b[0;34m\u001b[0m\u001b[0;34m\u001b[0m\u001b[0m\n\u001b[1;32m      4\u001b[0m \u001b[0;32massert\u001b[0m\u001b[0;34m(\u001b[0m\u001b[0manswer\u001b[0m\u001b[0;34m.\u001b[0m\u001b[0mloc\u001b[0m\u001b[0;34m[\u001b[0m\u001b[0;34m'WY'\u001b[0m\u001b[0;34m]\u001b[0m\u001b[0;34m.\u001b[0m\u001b[0msum\u001b[0m\u001b[0;34m(\u001b[0m\u001b[0;34m)\u001b[0m \u001b[0;34m==\u001b[0m \u001b[0;36m10892707.4\u001b[0m\u001b[0;34m)\u001b[0m\u001b[0;34m\u001b[0m\u001b[0;34m\u001b[0m\u001b[0m\n",
      "\u001b[0;31mAssertionError\u001b[0m: "
     ]
    }
   ],
   "source": [
    "assert(answer.shape == (4,3))\n",
    "assert(answer.sum().sum() == 519185664.6999999)\n",
    "assert(answer[2016].sum() == 176596933.80000004)\n",
    "assert(answer.loc['WY'].sum() == 10892707.4)"
   ]
  },
  {
   "cell_type": "code",
   "execution_count": null,
   "metadata": {},
   "outputs": [],
   "source": [
    "%matplotlib inline\n",
    "answer.plot.bar()"
   ]
  },
  {
   "cell_type": "code",
   "execution_count": null,
   "metadata": {},
   "outputs": [],
   "source": []
  },
  {
   "cell_type": "markdown",
   "metadata": {},
   "source": [
    "\n",
    "\n",
    "---\n",
    "\n",
    "\n",
    "\n",
    "## Submitting Your Work\n",
    "\n",
    "In order to submit your work, you'll need to use the `git` command line program to **add** your homework file (this file) to your local repository, **commit** your changes to your local repository, and then **push** those changes up to github.com.  From there, I'll be able to **pull** the changes down and do my grading.  I'll provide some feedback, **commit** and **push** my comments back to you.  Next week, I'll show you how to **pull** down my comments.\n",
    "\n",
    "To run through everything one last time and submit your work:\n",
    "1. Use the `Kernel` -> `Restart Kernel and Run All Cells` menu option to run everything from top to bottom and stop here.\n",
    "2. Follow the instruction on the prompt below to either ssave and submit your work, or continue working.\n",
    "\n",
    "If anything fails along the way with this submission part of the process, let me know.  I'll help you troubleshoort."
   ]
  },
  {
   "cell_type": "markdown",
   "metadata": {},
   "source": [
    "---"
   ]
  },
  {
   "cell_type": "code",
   "execution_count": null,
   "metadata": {
    "jupyter": {
     "source_hidden": true
    }
   },
   "outputs": [],
   "source": [
    "a=input('''\n",
    "Are you ready to submit your work?\n",
    "1. Click the Save icon (or do Ctrl-S / Cmd-S)\n",
    "2. Type \"yes\" or \"no\" below\n",
    "3. Press Enter\n",
    "\n",
    "''')\n",
    "\n",
    "if a=='yes':\n",
    "    !git pull\n",
    "    !git add week14_assignment.ipynb\n",
    "    !git commit -a -m \"Submitting the week 14 programming assignment\"\n",
    "    !git push\n",
    "else:\n",
    "    print('''\n",
    "    \n",
    "OK. We can wait.\n",
    "''')"
   ]
  },
  {
   "cell_type": "code",
   "execution_count": null,
   "metadata": {},
   "outputs": [],
   "source": []
  }
 ],
 "metadata": {
  "celltoolbar": "Create Assignment",
  "kernelspec": {
   "display_name": "Python 3",
   "language": "python",
   "name": "python3"
  },
  "language_info": {
   "codemirror_mode": {
    "name": "ipython",
    "version": 3
   },
   "file_extension": ".py",
   "mimetype": "text/x-python",
   "name": "python",
   "nbconvert_exporter": "python",
   "pygments_lexer": "ipython3",
   "version": "3.6.7"
  }
 },
 "nbformat": 4,
 "nbformat_minor": 2
}
